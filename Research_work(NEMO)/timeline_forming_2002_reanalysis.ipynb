{
 "cells": [
  {
   "cell_type": "code",
   "execution_count": 1,
   "metadata": {},
   "outputs": [],
   "source": [
    "import netCDF4 as nc\n",
    "import os\n",
    "import numpy as np\n",
    "import pandas as pd"
   ]
  },
  {
   "cell_type": "markdown",
   "metadata": {},
   "source": [
    "## Название датасета: Sea level daily gridded data from satellite observations for the global ocean from 1993 to present\n",
    "### *[Источник](https://cds.climate.copernicus.eu/cdsapp#!/dataset/satellite-sea-level-global?tab=overview)*"
   ]
  },
  {
   "cell_type": "markdown",
   "metadata": {},
   "source": [
    "## Смотрим на содержание файла netCDF: необходимая величина - sea_surface_height_above_geoid - 'adt'"
   ]
  },
  {
   "cell_type": "code",
   "execution_count": 2,
   "metadata": {},
   "outputs": [
    {
     "name": "stdout",
     "output_type": "stream",
     "text": [
      "<class 'netCDF4._netCDF4.Variable'>\n",
      "int32 adt(time, latitude, longitude)\n",
      "    _FillValue: -2147483647\n",
      "    comment: The absolute dynamic topography is the sea surface height above geoid; the adt is obtained as follows: adt=sla+mdt where mdt is the mean dynamic topography; see the product user manual for details\n",
      "    coordinates: longitude latitude\n",
      "    grid_mapping: crs\n",
      "    long_name: Absolute dynamic topography\n",
      "    scale_factor: 0.0001\n",
      "    standard_name: sea_surface_height_above_geoid\n",
      "    units: m\n",
      "unlimited dimensions: \n",
      "current shape = (1, 720, 1440)\n",
      "filling on\n"
     ]
    }
   ],
   "source": [
    "ds_folder_name='./dataset2002_reanalysis'\n",
    "my_example_nc_file = os.path.join(ds_folder_name, os.listdir(ds_folder_name)[0])\n",
    "ds = nc.Dataset(my_example_nc_file)\n",
    "#for var in ds.variables.values():\n",
    "    #print(var)\n",
    "print(ds['adt'])"
   ]
  },
  {
   "cell_type": "markdown",
   "metadata": {},
   "source": [
    "## Функция для поиска индекса ближайшей ячейки по координатам (тест)"
   ]
  },
  {
   "cell_type": "code",
   "execution_count": 3,
   "metadata": {},
   "outputs": [
    {
     "name": "stdout",
     "output_type": "stream",
     "text": [
      "670\n",
      "79\n"
     ]
    }
   ],
   "source": [
    "def geo_idx(dd, dd_array):\n",
    "    geo_idx = (np.abs(dd_array - dd)).argmin()\n",
    "    return geo_idx\n",
    "\n",
    "in_lat = 77.627\n",
    "in_lon = 19.877 \n",
    "\n",
    "lats = ds.variables['latitude'][:]\n",
    "lons = ds.variables['longitude'][:]\n",
    "\n",
    "lat_idx = geo_idx(in_lat, lats)\n",
    "lon_idx = geo_idx(in_lon, lons)\n",
    "\n",
    "print(lat_idx)\n",
    "print(lon_idx)"
   ]
  },
  {
   "cell_type": "markdown",
   "metadata": {},
   "source": [
    "## Запускаем в цикле, формируем временной ряд"
   ]
  },
  {
   "cell_type": "code",
   "execution_count": 7,
   "metadata": {},
   "outputs": [],
   "source": [
    "coordinates_from_map={'lat':[75.295924, 77.325956],\n",
    "                      'lon':[18.454331, 29.460769]}\n",
    "\n",
    "dates_list=[]\n",
    "names_dict={}\n",
    "\n",
    "for i in range (len(coordinates_from_map['lat'])):\n",
    "    name=str(coordinates_from_map['lat'][i])+'_'+str(coordinates_from_map['lon'][i])\n",
    "    names_dict[name]=[]\n",
    "#print(names_dict)\n",
    "\n",
    "for file in os.listdir(ds_folder_name):\n",
    "    #print(file)        \n",
    "    try:\n",
    "        ds = nc.Dataset(os.path.join(ds_folder_name, file))\n",
    "    except Exception as e:\n",
    "        print(e)\n",
    "        pass\n",
    "    date=file.split('_')[-2]\n",
    "    dates_list.append(date)\n",
    "        \n",
    "    for i in range (len(coordinates_from_map['lat'])):        \n",
    "        \n",
    "        sea_level=np.array(ds['adt'][:, :, :])[0]\n",
    "\n",
    "        in_lat = coordinates_from_map['lat'][i]\n",
    "        in_lon = coordinates_from_map['lon'][i]\n",
    "\n",
    "        lats = ds.variables['latitude'][:]\n",
    "        lons = ds.variables['longitude'][:]\n",
    "\n",
    "        lat_idx = geo_idx(in_lat, lats)\n",
    "        lon_idx = geo_idx(in_lon, lons)\n",
    "\n",
    "        value=sea_level[lat_idx, lon_idx]\n",
    "        name=str(coordinates_from_map['lat'][i])+'_'+str(coordinates_from_map['lon'][i])\n",
    "        names_dict[name].append(value)\n",
    "names_dict['dates']=dates_list"
   ]
  },
  {
   "cell_type": "markdown",
   "metadata": {},
   "source": [
    "### Сортировка и запись набора данных в csv"
   ]
  },
  {
   "cell_type": "code",
   "execution_count": 10,
   "metadata": {},
   "outputs": [
    {
     "data": {
      "text/html": [
       "<div>\n",
       "<style scoped>\n",
       "    .dataframe tbody tr th:only-of-type {\n",
       "        vertical-align: middle;\n",
       "    }\n",
       "\n",
       "    .dataframe tbody tr th {\n",
       "        vertical-align: top;\n",
       "    }\n",
       "\n",
       "    .dataframe thead th {\n",
       "        text-align: right;\n",
       "    }\n",
       "</style>\n",
       "<table border=\"1\" class=\"dataframe\">\n",
       "  <thead>\n",
       "    <tr style=\"text-align: right;\">\n",
       "      <th></th>\n",
       "      <th>75.295924_18.454331</th>\n",
       "      <th>77.325956_29.460769</th>\n",
       "      <th>dates</th>\n",
       "    </tr>\n",
       "  </thead>\n",
       "  <tbody>\n",
       "    <tr>\n",
       "      <th>0</th>\n",
       "      <td>-0.3090</td>\n",
       "      <td>-0.2800</td>\n",
       "      <td>2002-01-01</td>\n",
       "    </tr>\n",
       "    <tr>\n",
       "      <th>1</th>\n",
       "      <td>-0.3088</td>\n",
       "      <td>-0.2786</td>\n",
       "      <td>2002-01-02</td>\n",
       "    </tr>\n",
       "    <tr>\n",
       "      <th>2</th>\n",
       "      <td>-0.3046</td>\n",
       "      <td>-0.2763</td>\n",
       "      <td>2002-01-03</td>\n",
       "    </tr>\n",
       "    <tr>\n",
       "      <th>3</th>\n",
       "      <td>-0.3042</td>\n",
       "      <td>-0.2738</td>\n",
       "      <td>2002-01-04</td>\n",
       "    </tr>\n",
       "    <tr>\n",
       "      <th>4</th>\n",
       "      <td>-0.3003</td>\n",
       "      <td>-0.2711</td>\n",
       "      <td>2002-01-05</td>\n",
       "    </tr>\n",
       "    <tr>\n",
       "      <th>...</th>\n",
       "      <td>...</td>\n",
       "      <td>...</td>\n",
       "      <td>...</td>\n",
       "    </tr>\n",
       "    <tr>\n",
       "      <th>360</th>\n",
       "      <td>-0.2240</td>\n",
       "      <td>-0.2017</td>\n",
       "      <td>2002-12-27</td>\n",
       "    </tr>\n",
       "    <tr>\n",
       "      <th>361</th>\n",
       "      <td>-0.2255</td>\n",
       "      <td>-0.2027</td>\n",
       "      <td>2002-12-28</td>\n",
       "    </tr>\n",
       "    <tr>\n",
       "      <th>362</th>\n",
       "      <td>-0.2264</td>\n",
       "      <td>-0.2004</td>\n",
       "      <td>2002-12-29</td>\n",
       "    </tr>\n",
       "    <tr>\n",
       "      <th>363</th>\n",
       "      <td>-0.2302</td>\n",
       "      <td>-0.1945</td>\n",
       "      <td>2002-12-30</td>\n",
       "    </tr>\n",
       "    <tr>\n",
       "      <th>364</th>\n",
       "      <td>-0.2335</td>\n",
       "      <td>-0.1913</td>\n",
       "      <td>2002-12-31</td>\n",
       "    </tr>\n",
       "  </tbody>\n",
       "</table>\n",
       "<p>365 rows × 3 columns</p>\n",
       "</div>"
      ],
      "text/plain": [
       "     75.295924_18.454331  77.325956_29.460769      dates\n",
       "0                -0.3090              -0.2800 2002-01-01\n",
       "1                -0.3088              -0.2786 2002-01-02\n",
       "2                -0.3046              -0.2763 2002-01-03\n",
       "3                -0.3042              -0.2738 2002-01-04\n",
       "4                -0.3003              -0.2711 2002-01-05\n",
       "..                   ...                  ...        ...\n",
       "360              -0.2240              -0.2017 2002-12-27\n",
       "361              -0.2255              -0.2027 2002-12-28\n",
       "362              -0.2264              -0.2004 2002-12-29\n",
       "363              -0.2302              -0.1945 2002-12-30\n",
       "364              -0.2335              -0.1913 2002-12-31\n",
       "\n",
       "[365 rows x 3 columns]"
      ]
     },
     "execution_count": 10,
     "metadata": {},
     "output_type": "execute_result"
    }
   ],
   "source": [
    "pd_df = pd.DataFrame(names_dict, columns = list(names_dict.keys()))\n",
    "pd_df['dates'] =  pd.to_datetime(pd_df['dates'], format='%Y%m%d')\n",
    "pd_df=pd_df.sort_values(by=['dates'])\n",
    "pd_df.to_csv('./2002_spitz_reanalysis.csv', sep=';', index=False)\n",
    "pd_df"
   ]
  },
  {
   "cell_type": "code",
   "execution_count": 11,
   "metadata": {},
   "outputs": [
    {
     "data": {
      "image/png": "[encoded data removed]",
      "text/plain": [
       "<Figure size 1080x504 with 1 Axes>"
      ]
     },
     "metadata": {
      "needs_background": "light"
     },
     "output_type": "display_data"
    }
   ],
   "source": [
    "import matplotlib.pyplot as plt\n",
    "from pylab import rcParams\n",
    "rcParams['figure.figsize'] = 15, 7\n",
    "\n",
    "for key in list(names_dict.keys()):\n",
    "    if key!='dates':\n",
    "        plt.plot(pd_df['dates'], pd_df[key])\n",
    "plt.ylim(-1, 0)\n",
    "plt.show()"
   ]
  },
  {
   "cell_type": "code",
   "execution_count": null,
   "metadata": {},
   "outputs": [],
   "source": []
  }
 ],
 "metadata": {
  "kernelspec": {
   "display_name": "Python 3",
   "language": "python",
   "name": "python3"
  },
  "language_info": {
   "codemirror_mode": {
    "name": "ipython",
    "version": 3
   },
   "file_extension": ".py",
   "mimetype": "text/x-python",
   "name": "python",
   "nbconvert_exporter": "python",
   "pygments_lexer": "ipython3",
   "version": "3.7.9"
  }
 },
 "nbformat": 4,
 "nbformat_minor": 4
}
