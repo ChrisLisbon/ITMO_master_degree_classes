{
 "cells": [
  {
   "cell_type": "code",
   "execution_count": 1,
   "id": "74078bf5",
   "metadata": {},
   "outputs": [],
   "source": [
    "import pandas as pd"
   ]
  },
  {
   "cell_type": "code",
   "execution_count": 17,
   "id": "2b7e9642",
   "metadata": {},
   "outputs": [],
   "source": [
    "df1 = pd.read_csv('2002_ARCTIC_reanalysis_GRID(20x4).csv', delimiter=';')\n",
    "df2 = pd.read_csv('2002_NEMO_SPITZ_GRID(20x4).csv', delimiter=';')\n",
    "for column in df2.columns.values:\n",
    "    df1[column+'_nemo']=df2[column]\n",
    "df1=df1.drop(['dates_nemo'], axis=1)\n",
    "df1=df1.rename(columns={\"dates\": \"Date\"})"
   ]
  },
  {
   "cell_type": "code",
   "execution_count": 18,
   "id": "d0639ed6",
   "metadata": {},
   "outputs": [],
   "source": [
    "df1.to_csv('GRID_20x4_with_exog_nemo.csv', sep=',', index=False)"
   ]
  },
  {
   "cell_type": "code",
   "execution_count": null,
   "id": "7851a4db",
   "metadata": {},
   "outputs": [],
   "source": []
  }
 ],
 "metadata": {
  "kernelspec": {
   "display_name": "Python 3",
   "language": "python",
   "name": "python3"
  },
  "language_info": {
   "codemirror_mode": {
    "name": "ipython",
    "version": 3
   },
   "file_extension": ".py",
   "mimetype": "text/x-python",
   "name": "python",
   "nbconvert_exporter": "python",
   "pygments_lexer": "ipython3",
   "version": "3.7.10"
  }
 },
 "nbformat": 4,
 "nbformat_minor": 5
}
